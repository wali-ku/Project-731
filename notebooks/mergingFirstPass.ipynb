{
 "cells": [
  {
   "cell_type": "markdown",
   "metadata": {},
   "source": [
    "# Data Merging\n",
    "---"
   ]
  },
  {
   "cell_type": "code",
   "execution_count": 1,
   "metadata": {
    "collapsed": false
   },
   "outputs": [
    {
     "name": "stdout",
     "output_type": "stream",
     "text": [
      "CPU times: user 1.05 s, sys: 297 ms, total: 1.35 s\n",
      "Wall time: 1.61 s\n"
     ]
    }
   ],
   "source": [
    "%%time\n",
    "\n",
    "import numpy as np\n",
    "import pandas as pd\n",
    "import matplotlib.pyplot as plt\n",
    "from  datetime import datetime as dt\n",
    "plt.style.use('fivethirtyeight')\n",
    "%matplotlib inline"
   ]
  },
  {
   "cell_type": "code",
   "execution_count": 42,
   "metadata": {
    "collapsed": false
   },
   "outputs": [
    {
     "name": "stdout",
     "output_type": "stream",
     "text": [
      "\n",
      "####### Decision Data Head\n",
      "      TempGlobal  TempLand\n",
      "1900   15.143917  8.501583\n",
      "1901   15.073333  8.541917\n",
      "1902   14.958333  8.304417\n",
      "1903   14.836583  8.220167\n",
      "1904   14.810417  8.090917\n",
      "\n",
      "####### Decision Data Tail\n",
      "      TempGlobal  TempLand\n",
      "2011   15.769500  9.516000\n",
      "2012   15.802333  9.507333\n",
      "2013   15.854417  9.606500\n",
      "2014   15.913000  9.570667\n",
      "2015   16.058583  9.831000\n",
      "\n",
      "####### Decision Data Shape\n",
      "(116, 2)\n"
     ]
    }
   ],
   "source": [
    "df_temp = pd.read_csv ('../data/firstPass/GlobalTemperatures.csv', parse_dates = ['dt'])\n",
    "df_temp = df_temp.rename (index = str, columns = {'LandAndOceanAverageTemperature': 'TempGlobal', 'LandAverageTemperature': 'TempLand'})\n",
    "df_temp ['year'] = pd.DatetimeIndex (df_temp ['dt']).year\n",
    "df_temp = df_temp.drop (['dt'], axis = 1)\n",
    "df_aggTemp = df_temp.groupby ('year')[['TempGlobal', 'TempLand']].mean ()\n",
    "df_aggTempLowerCut = df_aggTemp [df_aggTemp.index > 1899]\n",
    "df_aggTempFinal = df_aggTempLowerCut [df_aggTempLowerCut.index < 2016]\n",
    "df_aggTempFinal.index = df_aggTempFinal.index.map (unicode)\n",
    "\n",
    "print\n",
    "print '####### Decision Data Head'\n",
    "print df_aggTempFinal.head ()\n",
    "print\n",
    "print '####### Decision Data Tail'\n",
    "print df_aggTempFinal.tail ()\n",
    "print\n",
    "print '####### Decision Data Shape'\n",
    "print df_aggTempFinal.shape\n"
   ]
  },
  {
   "cell_type": "markdown",
   "metadata": {},
   "source": [
    "## Add CO2 Data\n",
    "---"
   ]
  },
  {
   "cell_type": "code",
   "execution_count": 43,
   "metadata": {
    "collapsed": false
   },
   "outputs": [
    {
     "name": "stdout",
     "output_type": "stream",
     "text": [
      "\n",
      "####### CO-2 Data Head\n",
      "      CO2-Concentration\n",
      "1900         1880.29881\n",
      "1901         1942.99709\n",
      "1902         1996.90205\n",
      "1903         2186.94199\n",
      "1904         2202.66794\n",
      "\n",
      "####### CO-2 Data Tail\n",
      "      CO2-Concentration\n",
      "2011          174562.07\n",
      "2012          177452.11\n",
      "2013          178642.90\n",
      "2014          179957.65\n",
      "2015          179639.07\n",
      "\n",
      "####### CO-2 Data Shape\n",
      "(116, 1)\n"
     ]
    }
   ],
   "source": [
    "df_co2 = pd.read_csv ('../data/co2/annual-co-emissions-per-country.csv')\n",
    "df_co2 = df_co2.rename (index = str, columns = {'Annual CO₂ emissions (Global Carbon Project (2017)) (million tonnes)': 'CO2-Concentration', 'Year': 'year'})\n",
    "df_aggCo2 = df_co2.groupby (df_co2 ['year'])[['CO2-Concentration']].sum ()\n",
    "df_aggCo2LowerCut = df_aggCo2 [df_aggCo2.index > 1899]\n",
    "df_aggCo2Final = df_aggCo2LowerCut [df_aggCo2LowerCut.index < 2016]\n",
    "df_aggCo2Final.index = df_aggCo2Final.index.map (unicode)\n",
    "\n",
    "print\n",
    "print '####### CO-2 Data Head'\n",
    "print df_aggCo2Final.head ()\n",
    "print\n",
    "print '####### CO-2 Data Tail'\n",
    "print df_aggCo2Final.tail ()\n",
    "print\n",
    "print '####### CO-2 Data Shape'\n",
    "print df_aggCo2Final.shape"
   ]
  },
  {
   "cell_type": "code",
   "execution_count": 44,
   "metadata": {
    "collapsed": false
   },
   "outputs": [
    {
     "name": "stdout",
     "output_type": "stream",
     "text": [
      "\n",
      "******* MERGED DATAFRAME (P-1)\n",
      "####### Merged Data Head\n",
      "      CO2-Concentration  TempGlobal  TempLand\n",
      "1900         1880.29881   15.143917  8.501583\n",
      "1901         1942.99709   15.073333  8.541917\n",
      "1902         1996.90205   14.958333  8.304417\n",
      "1903         2186.94199   14.836583  8.220167\n",
      "1904         2202.66794   14.810417  8.090917\n",
      "\n",
      "####### Merged Data Tail\n",
      "      CO2-Concentration  TempGlobal  TempLand\n",
      "2011          174562.07   15.769500  9.516000\n",
      "2012          177452.11   15.802333  9.507333\n",
      "2013          178642.90   15.854417  9.606500\n",
      "2014          179957.65   15.913000  9.570667\n",
      "2015          179639.07   16.058583  9.831000\n",
      "\n",
      "####### Merged Data Shape\n",
      "(116, 3)\n"
     ]
    }
   ],
   "source": [
    "# Merge Co2 and Temperature dataframes\n",
    "df_final = df_aggCo2Final.join (df_aggTempFinal, how = 'inner')\n",
    "\n",
    "print\n",
    "print '******* MERGED DATAFRAME (P-1)'\n",
    "print '####### Merged Data Head'\n",
    "print df_final.head ()\n",
    "print\n",
    "print '####### Merged Data Tail'\n",
    "print df_final.tail ()\n",
    "print\n",
    "print '####### Merged Data Shape'\n",
    "print df_final.shape"
   ]
  },
  {
   "cell_type": "markdown",
   "metadata": {},
   "source": [
    "## Add Fossil Fuel Consumption Data\n",
    "---"
   ]
  },
  {
   "cell_type": "code",
   "execution_count": 46,
   "metadata": {
    "collapsed": false
   },
   "outputs": [
    {
     "name": "stdout",
     "output_type": "stream",
     "text": [
      "\n",
      "####### F-Fuels Data Head\n",
      "             Coal         Oil        Gas\n",
      "1900   5727.78236   180.55570   63.88894\n",
      "1910   8655.56248   397.22254  141.66678\n",
      "1920   9833.34120   888.88960  233.33352\n",
      "1930  10125.00810  1755.55696  602.77826\n",
      "1940  11586.12038  2652.77990  875.00070\n",
      "\n",
      "####### F-Fuels Data Tail\n",
      "             Coal          Oil          Gas\n",
      "2011  44277.59112  47982.28000  34033.08509\n",
      "2012  44395.06224  48569.02647  35012.27319\n",
      "2013  45205.49828  49088.50592  35522.26380\n",
      "2014  45233.99218  49483.64369  35738.83055\n",
      "2015  44015.53033  50485.32693  36596.65882\n",
      "\n",
      "####### F-Fuels Data Shape\n",
      "(58, 3)\n"
     ]
    }
   ],
   "source": [
    "df_ffuels = pd.read_csv ('../data/fossilFuels/global-fossil-fuel-consumption.csv')\n",
    "df_ffuels = df_ffuels.rename (index = str, columns = {'Year': 'year', 'Coal (terawatt-hours)': 'Coal', 'Crude oil (terawatt-hours)': 'Oil', 'Natural gas (terawatt-hours)': 'Gas'})\n",
    "df_aggFfuels = df_ffuels.groupby (df_ffuels ['year'])[['Coal', 'Oil', 'Gas']].sum ()\n",
    "df_ffuelsLowerCut = df_aggFfuels [df_aggFfuels.index > 1899]\n",
    "df_ffuelsFinal = df_ffuelsLowerCut [df_ffuelsLowerCut.index < 2016]\n",
    "df_ffuelsFinal.index = df_ffuelsFinal.index.map (unicode)\n",
    "\n",
    "print\n",
    "print '####### F-Fuels Data Head'\n",
    "print df_ffuelsFinal.head ()\n",
    "print\n",
    "print '####### F-Fuels Data Tail'\n",
    "print df_ffuelsFinal.tail ()\n",
    "print\n",
    "print '####### F-Fuels Data Shape'\n",
    "print df_ffuelsFinal.shape"
   ]
  },
  {
   "cell_type": "markdown",
   "metadata": {},
   "source": [
    "# PROBLEM\n",
    "---\n",
    "We have only **58 values** for fossil-fuel datasets in the desired time-range ([1900 - 2015]). We expect **116** values.\n",
    "\n",
    "## Work-Around\n",
    "----\n",
    "I am going to do partial mergin at the moment. Missing years from Fossil datasets will be treated as *NA*."
   ]
  },
  {
   "cell_type": "code",
   "execution_count": 58,
   "metadata": {
    "collapsed": false
   },
   "outputs": [
    {
     "name": "stdout",
     "output_type": "stream",
     "text": [
      "\n",
      "******* MERGED DATAFRAME (P-2)\n",
      "####### Merged Data Head\n",
      "            Coal       Oil       Gas  CO2-Concentration  TempGlobal  TempLand\n",
      "1900  5727.78236  180.5557  63.88894         1880.29881   15.143917  8.501583\n",
      "1901         NaN       NaN       NaN         1942.99709   15.073333  8.541917\n",
      "1902         NaN       NaN       NaN         1996.90205   14.958333  8.304417\n",
      "1903         NaN       NaN       NaN         2186.94199   14.836583  8.220167\n",
      "1904         NaN       NaN       NaN         2202.66794   14.810417  8.090917\n",
      "\n",
      "####### Merged Data Tail\n",
      "             Coal          Oil          Gas  CO2-Concentration  TempGlobal  \\\n",
      "2011  44277.59112  47982.28000  34033.08509          174562.07   15.769500   \n",
      "2012  44395.06224  48569.02647  35012.27319          177452.11   15.802333   \n",
      "2013  45205.49828  49088.50592  35522.26380          178642.90   15.854417   \n",
      "2014  45233.99218  49483.64369  35738.83055          179957.65   15.913000   \n",
      "2015  44015.53033  50485.32693  36596.65882          179639.07   16.058583   \n",
      "\n",
      "      TempLand  \n",
      "2011  9.516000  \n",
      "2012  9.507333  \n",
      "2013  9.606500  \n",
      "2014  9.570667  \n",
      "2015  9.831000  \n",
      "\n",
      "####### Merged Data Shape\n",
      "(116, 6)\n"
     ]
    }
   ],
   "source": [
    "# Add fossil-fuel consumption dataset to partially merged frame\n",
    "df_final2 = df_ffuelsFinal.join (df_final, how = 'outer')\n",
    "\n",
    "print\n",
    "print '******* MERGED DATAFRAME (P-2)'\n",
    "print '####### Merged Data Head'\n",
    "print df_final2.head ()\n",
    "print\n",
    "print '####### Merged Data Tail'\n",
    "print df_final2.tail ()\n",
    "print\n",
    "print '####### Merged Data Shape'\n",
    "print df_final2.shape"
   ]
  },
  {
   "cell_type": "markdown",
   "metadata": {},
   "source": [
    "## Add Sea-Level Data\n",
    "---"
   ]
  },
  {
   "cell_type": "code",
   "execution_count": 54,
   "metadata": {
    "collapsed": false
   },
   "outputs": [
    {
     "name": "stdout",
     "output_type": "stream",
     "text": [
      "\n",
      "####### Sea-Level Data Head\n",
      "      SeaLevel\n",
      "1900    -130.1\n",
      "1901    -130.5\n",
      "1902    -125.9\n",
      "1903    -117.9\n",
      "1904    -128.2\n",
      "\n",
      "####### Sea-Level Data Tail\n",
      "      SeaLevel\n",
      "2009      58.0\n",
      "2010      65.7\n",
      "2011      67.3\n",
      "2012      76.1\n",
      "2013      67.7\n",
      "\n",
      "####### Sea-Level Data Shape\n",
      "(114, 1)\n"
     ]
    }
   ],
   "source": [
    "df_seaLev = pd.read_csv ('../Sea_level/Data/sea-level1900.csv')\n",
    "df_seaLev = df_seaLev.rename (index = str, columns = {'GMSL': 'SeaLevel'})\n",
    "df_aggSeaLev = df_seaLev.groupby (df_seaLev ['year'])[['SeaLevel']].sum ()\n",
    "df_seaLevLowerCut = df_aggSeaLev [df_aggSeaLev.index > 1899]\n",
    "df_seaLevFinal = df_seaLevLowerCut [df_seaLevLowerCut.index < 2016]\n",
    "df_seaLevFinal.index = df_seaLevFinal.index.map (unicode)\n",
    "\n",
    "print\n",
    "print '####### Sea-Level Data Head'\n",
    "print df_seaLevFinal.head ()\n",
    "print\n",
    "print '####### Sea-Level Data Tail'\n",
    "print df_seaLevFinal.tail ()\n",
    "print\n",
    "print '####### Sea-Level Data Shape'\n",
    "print df_seaLevFinal.shape"
   ]
  },
  {
   "cell_type": "code",
   "execution_count": 65,
   "metadata": {
    "collapsed": false
   },
   "outputs": [
    {
     "name": "stdout",
     "output_type": "stream",
     "text": [
      "\n",
      "******* MERGED DATAFRAME (P-2)\n",
      "####### Merged Data Head\n",
      "      SeaLevel        Coal       Oil       Gas  CO2-Concentration  TempGlobal  \\\n",
      "1900    -130.1  5727.78236  180.5557  63.88894         1880.29881   15.143917   \n",
      "1901    -130.5         NaN       NaN       NaN         1942.99709   15.073333   \n",
      "1902    -125.9         NaN       NaN       NaN         1996.90205   14.958333   \n",
      "1903    -117.9         NaN       NaN       NaN         2186.94199   14.836583   \n",
      "1904    -128.2         NaN       NaN       NaN         2202.66794   14.810417   \n",
      "\n",
      "      TempLand  \n",
      "1900  8.501583  \n",
      "1901  8.541917  \n",
      "1902  8.304417  \n",
      "1903  8.220167  \n",
      "1904  8.090917  \n",
      "\n",
      "####### Merged Data Tail\n",
      "      SeaLevel         Coal          Oil          Gas  CO2-Concentration  \\\n",
      "2011      67.3  44277.59112  47982.28000  34033.08509          174562.07   \n",
      "2012      76.1  44395.06224  48569.02647  35012.27319          177452.11   \n",
      "2013      67.7  45205.49828  49088.50592  35522.26380          178642.90   \n",
      "2014       NaN  45233.99218  49483.64369  35738.83055          179957.65   \n",
      "2015       NaN  44015.53033  50485.32693  36596.65882          179639.07   \n",
      "\n",
      "      TempGlobal  TempLand  \n",
      "2011   15.769500  9.516000  \n",
      "2012   15.802333  9.507333  \n",
      "2013   15.854417  9.606500  \n",
      "2014   15.913000  9.570667  \n",
      "2015   16.058583  9.831000  \n",
      "\n",
      "####### Merged Data Shape\n",
      "(116, 7)\n",
      "\n"
     ]
    }
   ],
   "source": [
    "# Add sea-level dataset to partially merged frame\n",
    "df_final3 = df_seaLevFinal.join (df_final2, how = 'outer')\n",
    "\n",
    "print\n",
    "print '******* MERGED DATAFRAME (P-2)'\n",
    "print '####### Merged Data Head'\n",
    "print df_final3.head ()\n",
    "print\n",
    "print '####### Merged Data Tail'\n",
    "print df_final3.tail ()\n",
    "print\n",
    "print '####### Merged Data Shape'\n",
    "print df_final3.shape\n",
    "print"
   ]
  },
  {
   "cell_type": "markdown",
   "metadata": {},
   "source": [
    "# Final Dataset\n",
    "---"
   ]
  },
  {
   "cell_type": "code",
   "execution_count": 66,
   "metadata": {
    "collapsed": false
   },
   "outputs": [
    {
     "data": {
      "text/html": [
       "<div>\n",
       "<table border=\"1\" class=\"dataframe\">\n",
       "  <thead>\n",
       "    <tr style=\"text-align: right;\">\n",
       "      <th></th>\n",
       "      <th>SeaLevel</th>\n",
       "      <th>Coal</th>\n",
       "      <th>Oil</th>\n",
       "      <th>Gas</th>\n",
       "      <th>CO2-Concentration</th>\n",
       "      <th>TempGlobal</th>\n",
       "      <th>TempLand</th>\n",
       "    </tr>\n",
       "  </thead>\n",
       "  <tbody>\n",
       "    <tr>\n",
       "      <th>1900</th>\n",
       "      <td>-130.1</td>\n",
       "      <td>5727.78236</td>\n",
       "      <td>180.5557</td>\n",
       "      <td>63.88894</td>\n",
       "      <td>1880.29881</td>\n",
       "      <td>15.143917</td>\n",
       "      <td>8.501583</td>\n",
       "    </tr>\n",
       "    <tr>\n",
       "      <th>1901</th>\n",
       "      <td>-130.5</td>\n",
       "      <td>NaN</td>\n",
       "      <td>NaN</td>\n",
       "      <td>NaN</td>\n",
       "      <td>1942.99709</td>\n",
       "      <td>15.073333</td>\n",
       "      <td>8.541917</td>\n",
       "    </tr>\n",
       "    <tr>\n",
       "      <th>1902</th>\n",
       "      <td>-125.9</td>\n",
       "      <td>NaN</td>\n",
       "      <td>NaN</td>\n",
       "      <td>NaN</td>\n",
       "      <td>1996.90205</td>\n",
       "      <td>14.958333</td>\n",
       "      <td>8.304417</td>\n",
       "    </tr>\n",
       "    <tr>\n",
       "      <th>1903</th>\n",
       "      <td>-117.9</td>\n",
       "      <td>NaN</td>\n",
       "      <td>NaN</td>\n",
       "      <td>NaN</td>\n",
       "      <td>2186.94199</td>\n",
       "      <td>14.836583</td>\n",
       "      <td>8.220167</td>\n",
       "    </tr>\n",
       "    <tr>\n",
       "      <th>1904</th>\n",
       "      <td>-128.2</td>\n",
       "      <td>NaN</td>\n",
       "      <td>NaN</td>\n",
       "      <td>NaN</td>\n",
       "      <td>2202.66794</td>\n",
       "      <td>14.810417</td>\n",
       "      <td>8.090917</td>\n",
       "    </tr>\n",
       "  </tbody>\n",
       "</table>\n",
       "</div>"
      ],
      "text/plain": [
       "      SeaLevel        Coal       Oil       Gas  CO2-Concentration  TempGlobal  \\\n",
       "1900    -130.1  5727.78236  180.5557  63.88894         1880.29881   15.143917   \n",
       "1901    -130.5         NaN       NaN       NaN         1942.99709   15.073333   \n",
       "1902    -125.9         NaN       NaN       NaN         1996.90205   14.958333   \n",
       "1903    -117.9         NaN       NaN       NaN         2186.94199   14.836583   \n",
       "1904    -128.2         NaN       NaN       NaN         2202.66794   14.810417   \n",
       "\n",
       "      TempLand  \n",
       "1900  8.501583  \n",
       "1901  8.541917  \n",
       "1902  8.304417  \n",
       "1903  8.220167  \n",
       "1904  8.090917  "
      ]
     },
     "execution_count": 66,
     "metadata": {},
     "output_type": "execute_result"
    }
   ],
   "source": [
    "df_final3.head ()"
   ]
  },
  {
   "cell_type": "markdown",
   "metadata": {},
   "source": [
    "**NOTE**: We have to do something about the missing values in **fossil-fuel** dataset.\n",
    "At the moment, I am using **forward-fill** method to replace NaN fossil-fuel values. However, it would be best if we can get actual data for these values."
   ]
  },
  {
   "cell_type": "code",
   "execution_count": 67,
   "metadata": {
    "collapsed": false
   },
   "outputs": [
    {
     "data": {
      "text/html": [
       "<div>\n",
       "<table border=\"1\" class=\"dataframe\">\n",
       "  <thead>\n",
       "    <tr style=\"text-align: right;\">\n",
       "      <th></th>\n",
       "      <th>SeaLevel</th>\n",
       "      <th>Coal</th>\n",
       "      <th>Oil</th>\n",
       "      <th>Gas</th>\n",
       "      <th>CO2-Concentration</th>\n",
       "      <th>TempGlobal</th>\n",
       "      <th>TempLand</th>\n",
       "    </tr>\n",
       "  </thead>\n",
       "  <tbody>\n",
       "    <tr>\n",
       "      <th>1900</th>\n",
       "      <td>-130.1</td>\n",
       "      <td>5727.78236</td>\n",
       "      <td>180.5557</td>\n",
       "      <td>63.88894</td>\n",
       "      <td>1880.29881</td>\n",
       "      <td>15.143917</td>\n",
       "      <td>8.501583</td>\n",
       "    </tr>\n",
       "    <tr>\n",
       "      <th>1901</th>\n",
       "      <td>-130.5</td>\n",
       "      <td>5727.78236</td>\n",
       "      <td>180.5557</td>\n",
       "      <td>63.88894</td>\n",
       "      <td>1942.99709</td>\n",
       "      <td>15.073333</td>\n",
       "      <td>8.541917</td>\n",
       "    </tr>\n",
       "    <tr>\n",
       "      <th>1902</th>\n",
       "      <td>-125.9</td>\n",
       "      <td>5727.78236</td>\n",
       "      <td>180.5557</td>\n",
       "      <td>63.88894</td>\n",
       "      <td>1996.90205</td>\n",
       "      <td>14.958333</td>\n",
       "      <td>8.304417</td>\n",
       "    </tr>\n",
       "    <tr>\n",
       "      <th>1903</th>\n",
       "      <td>-117.9</td>\n",
       "      <td>5727.78236</td>\n",
       "      <td>180.5557</td>\n",
       "      <td>63.88894</td>\n",
       "      <td>2186.94199</td>\n",
       "      <td>14.836583</td>\n",
       "      <td>8.220167</td>\n",
       "    </tr>\n",
       "    <tr>\n",
       "      <th>1904</th>\n",
       "      <td>-128.2</td>\n",
       "      <td>5727.78236</td>\n",
       "      <td>180.5557</td>\n",
       "      <td>63.88894</td>\n",
       "      <td>2202.66794</td>\n",
       "      <td>14.810417</td>\n",
       "      <td>8.090917</td>\n",
       "    </tr>\n",
       "  </tbody>\n",
       "</table>\n",
       "</div>"
      ],
      "text/plain": [
       "      SeaLevel        Coal       Oil       Gas  CO2-Concentration  TempGlobal  \\\n",
       "1900    -130.1  5727.78236  180.5557  63.88894         1880.29881   15.143917   \n",
       "1901    -130.5  5727.78236  180.5557  63.88894         1942.99709   15.073333   \n",
       "1902    -125.9  5727.78236  180.5557  63.88894         1996.90205   14.958333   \n",
       "1903    -117.9  5727.78236  180.5557  63.88894         2186.94199   14.836583   \n",
       "1904    -128.2  5727.78236  180.5557  63.88894         2202.66794   14.810417   \n",
       "\n",
       "      TempLand  \n",
       "1900  8.501583  \n",
       "1901  8.541917  \n",
       "1902  8.304417  \n",
       "1903  8.220167  \n",
       "1904  8.090917  "
      ]
     },
     "execution_count": 67,
     "metadata": {},
     "output_type": "execute_result"
    }
   ],
   "source": [
    "df_final4 = df_final3.fillna (method = 'ffill')\n",
    "df_final4.head (5)"
   ]
  },
  {
   "cell_type": "code",
   "execution_count": 70,
   "metadata": {
    "collapsed": true
   },
   "outputs": [],
   "source": [
    "df_final4.index.name = 'year'\n",
    "\n",
    "# Save the final dataframe to csv file\n",
    "df_final4.to_csv ('../data/mergedData.csv')"
   ]
  }
 ],
 "metadata": {
  "anaconda-cloud": {},
  "kernelspec": {
   "display_name": "Python [default]",
   "language": "python",
   "name": "python2"
  },
  "language_info": {
   "codemirror_mode": {
    "name": "ipython",
    "version": 2
   },
   "file_extension": ".py",
   "mimetype": "text/x-python",
   "name": "python",
   "nbconvert_exporter": "python",
   "pygments_lexer": "ipython2",
   "version": "2.7.12"
  }
 },
 "nbformat": 4,
 "nbformat_minor": 2
}
