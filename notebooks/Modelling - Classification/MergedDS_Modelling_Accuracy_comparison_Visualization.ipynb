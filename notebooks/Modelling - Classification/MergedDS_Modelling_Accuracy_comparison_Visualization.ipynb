{
 "cells": [
  {
   "cell_type": "code",
   "execution_count": 2,
   "metadata": {},
   "outputs": [],
   "source": [
    "# Ignore  the warnings\n",
    "import warnings\n",
    "warnings.filterwarnings('always')\n",
    "warnings.filterwarnings('ignore')\n",
    "\n",
    "# data visualisation and manipulation\n",
    "import numpy as np\n",
    "import pandas as pd\n",
    "import matplotlib.pyplot as plt\n",
    "import seaborn as sns\n",
    "\n",
    "\n",
    "#configure\n",
    "# sets matplotlib to inline and displays graphs below the corressponding cell.\n",
    "%matplotlib inline  \n",
    "\n",
    "#scikit-learn.\n",
    "from sklearn.linear_model import LogisticRegression\n",
    "from sklearn.svm import LinearSVC\n",
    "from sklearn.svm import SVC\n",
    "from sklearn.neighbors import KNeighborsClassifier\n",
    "from sklearn.model_selection import train_test_split\n",
    "from sklearn.metrics import accuracy_score\n",
    "from sklearn.preprocessing import StandardScaler,LabelEncoder "
   ]
  },
  {
   "cell_type": "code",
   "execution_count": 3,
   "metadata": {},
   "outputs": [],
   "source": [
    "df_cluster = pd.read_csv('C:\\\\Users\\\\Pushkar\\\\OneDrive - The University of Kansas\\\\Test_DS_col\\\\mergedData.csv')"
   ]
  },
  {
   "cell_type": "code",
   "execution_count": 4,
   "metadata": {},
   "outputs": [],
   "source": [
    "# divided the TempGlobal i.e. the continuous data into 3 bins and created a new column i.e. TempGlobal_bins\n",
    "df_cluster_disct = df_cluster.copy(deep=True)\n",
    "df_cluster_disct['TempGlobal_bins']=pd.cut(df_cluster_disct['TempGlobal'], 3,labels=[\"Low\", \"Medium\", \"High\"])"
   ]
  },
  {
   "cell_type": "code",
   "execution_count": 5,
   "metadata": {},
   "outputs": [
    {
     "data": {
      "text/html": [
       "<div>\n",
       "<style scoped>\n",
       "    .dataframe tbody tr th:only-of-type {\n",
       "        vertical-align: middle;\n",
       "    }\n",
       "\n",
       "    .dataframe tbody tr th {\n",
       "        vertical-align: top;\n",
       "    }\n",
       "\n",
       "    .dataframe thead th {\n",
       "        text-align: right;\n",
       "    }\n",
       "</style>\n",
       "<table border=\"1\" class=\"dataframe\">\n",
       "  <thead>\n",
       "    <tr style=\"text-align: right;\">\n",
       "      <th></th>\n",
       "      <th>year</th>\n",
       "      <th>SeaLevel</th>\n",
       "      <th>Coal</th>\n",
       "      <th>Oil</th>\n",
       "      <th>Gas</th>\n",
       "      <th>CO2-Concentration</th>\n",
       "      <th>TempGlobal</th>\n",
       "      <th>TempLand</th>\n",
       "      <th>TempGlobal_bins</th>\n",
       "    </tr>\n",
       "  </thead>\n",
       "  <tbody>\n",
       "    <tr>\n",
       "      <th>0</th>\n",
       "      <td>1900</td>\n",
       "      <td>-130.1</td>\n",
       "      <td>5727.78236</td>\n",
       "      <td>180.5557</td>\n",
       "      <td>63.88894</td>\n",
       "      <td>1880.29881</td>\n",
       "      <td>15.143917</td>\n",
       "      <td>8.501583</td>\n",
       "      <td>Low</td>\n",
       "    </tr>\n",
       "    <tr>\n",
       "      <th>1</th>\n",
       "      <td>1901</td>\n",
       "      <td>-130.5</td>\n",
       "      <td>5727.78236</td>\n",
       "      <td>180.5557</td>\n",
       "      <td>63.88894</td>\n",
       "      <td>1942.99709</td>\n",
       "      <td>15.073333</td>\n",
       "      <td>8.541917</td>\n",
       "      <td>Low</td>\n",
       "    </tr>\n",
       "    <tr>\n",
       "      <th>2</th>\n",
       "      <td>1902</td>\n",
       "      <td>-125.9</td>\n",
       "      <td>5727.78236</td>\n",
       "      <td>180.5557</td>\n",
       "      <td>63.88894</td>\n",
       "      <td>1996.90205</td>\n",
       "      <td>14.958333</td>\n",
       "      <td>8.304417</td>\n",
       "      <td>Low</td>\n",
       "    </tr>\n",
       "    <tr>\n",
       "      <th>3</th>\n",
       "      <td>1903</td>\n",
       "      <td>-117.9</td>\n",
       "      <td>5727.78236</td>\n",
       "      <td>180.5557</td>\n",
       "      <td>63.88894</td>\n",
       "      <td>2186.94199</td>\n",
       "      <td>14.836583</td>\n",
       "      <td>8.220167</td>\n",
       "      <td>Low</td>\n",
       "    </tr>\n",
       "    <tr>\n",
       "      <th>4</th>\n",
       "      <td>1904</td>\n",
       "      <td>-128.2</td>\n",
       "      <td>5727.78236</td>\n",
       "      <td>180.5557</td>\n",
       "      <td>63.88894</td>\n",
       "      <td>2202.66794</td>\n",
       "      <td>14.810417</td>\n",
       "      <td>8.090917</td>\n",
       "      <td>Low</td>\n",
       "    </tr>\n",
       "  </tbody>\n",
       "</table>\n",
       "</div>"
      ],
      "text/plain": [
       "   year  SeaLevel        Coal       Oil       Gas  CO2-Concentration  \\\n",
       "0  1900    -130.1  5727.78236  180.5557  63.88894         1880.29881   \n",
       "1  1901    -130.5  5727.78236  180.5557  63.88894         1942.99709   \n",
       "2  1902    -125.9  5727.78236  180.5557  63.88894         1996.90205   \n",
       "3  1903    -117.9  5727.78236  180.5557  63.88894         2186.94199   \n",
       "4  1904    -128.2  5727.78236  180.5557  63.88894         2202.66794   \n",
       "\n",
       "   TempGlobal  TempLand TempGlobal_bins  \n",
       "0   15.143917  8.501583             Low  \n",
       "1   15.073333  8.541917             Low  \n",
       "2   14.958333  8.304417             Low  \n",
       "3   14.836583  8.220167             Low  \n",
       "4   14.810417  8.090917             Low  "
      ]
     },
     "execution_count": 5,
     "metadata": {},
     "output_type": "execute_result"
    }
   ],
   "source": [
    "df_cluster_disct.head(5)"
   ]
  },
  {
   "cell_type": "code",
   "execution_count": 6,
   "metadata": {},
   "outputs": [
    {
     "data": {
      "text/plain": [
       "0    (14.775, 15.204]\n",
       "1    (14.775, 15.204]\n",
       "2    (14.775, 15.204]\n",
       "3    (14.775, 15.204]\n",
       "4    (14.775, 15.204]\n",
       "Name: TempGlobal, dtype: category\n",
       "Categories (3, interval[float64]): [(14.775, 15.204] < (15.204, 15.631] < (15.631, 16.059]]"
      ]
     },
     "execution_count": 6,
     "metadata": {},
     "output_type": "execute_result"
    }
   ],
   "source": [
    "#[(14.775, 15.204] = Low\n",
    "# (15.204, 15.631] = Medium\n",
    "# (15.631, 16.059]] = High\n",
    "\n",
    "pd.cut(df_cluster_disct['TempGlobal'], 3).head()"
   ]
  },
  {
   "cell_type": "code",
   "execution_count": 7,
   "metadata": {},
   "outputs": [],
   "source": [
    "df_cluster_disct.drop(['year','TempGlobal','TempLand'],axis=1,inplace=True) #dropping the Id column as it is unecessary, axis=1 specifies that it should be column wise, inplace =1 means the changes should be reflected into the dataframe"
   ]
  },
  {
   "cell_type": "code",
   "execution_count": 8,
   "metadata": {},
   "outputs": [
    {
     "data": {
      "text/html": [
       "<div>\n",
       "<style scoped>\n",
       "    .dataframe tbody tr th:only-of-type {\n",
       "        vertical-align: middle;\n",
       "    }\n",
       "\n",
       "    .dataframe tbody tr th {\n",
       "        vertical-align: top;\n",
       "    }\n",
       "\n",
       "    .dataframe thead th {\n",
       "        text-align: right;\n",
       "    }\n",
       "</style>\n",
       "<table border=\"1\" class=\"dataframe\">\n",
       "  <thead>\n",
       "    <tr style=\"text-align: right;\">\n",
       "      <th></th>\n",
       "      <th>SeaLevel</th>\n",
       "      <th>Coal</th>\n",
       "      <th>Oil</th>\n",
       "      <th>Gas</th>\n",
       "      <th>CO2-Concentration</th>\n",
       "      <th>TempGlobal_bins</th>\n",
       "    </tr>\n",
       "  </thead>\n",
       "  <tbody>\n",
       "    <tr>\n",
       "      <th>0</th>\n",
       "      <td>-130.1</td>\n",
       "      <td>5727.78236</td>\n",
       "      <td>180.5557</td>\n",
       "      <td>63.88894</td>\n",
       "      <td>1880.29881</td>\n",
       "      <td>Low</td>\n",
       "    </tr>\n",
       "    <tr>\n",
       "      <th>1</th>\n",
       "      <td>-130.5</td>\n",
       "      <td>5727.78236</td>\n",
       "      <td>180.5557</td>\n",
       "      <td>63.88894</td>\n",
       "      <td>1942.99709</td>\n",
       "      <td>Low</td>\n",
       "    </tr>\n",
       "    <tr>\n",
       "      <th>2</th>\n",
       "      <td>-125.9</td>\n",
       "      <td>5727.78236</td>\n",
       "      <td>180.5557</td>\n",
       "      <td>63.88894</td>\n",
       "      <td>1996.90205</td>\n",
       "      <td>Low</td>\n",
       "    </tr>\n",
       "    <tr>\n",
       "      <th>3</th>\n",
       "      <td>-117.9</td>\n",
       "      <td>5727.78236</td>\n",
       "      <td>180.5557</td>\n",
       "      <td>63.88894</td>\n",
       "      <td>2186.94199</td>\n",
       "      <td>Low</td>\n",
       "    </tr>\n",
       "    <tr>\n",
       "      <th>4</th>\n",
       "      <td>-128.2</td>\n",
       "      <td>5727.78236</td>\n",
       "      <td>180.5557</td>\n",
       "      <td>63.88894</td>\n",
       "      <td>2202.66794</td>\n",
       "      <td>Low</td>\n",
       "    </tr>\n",
       "  </tbody>\n",
       "</table>\n",
       "</div>"
      ],
      "text/plain": [
       "   SeaLevel        Coal       Oil       Gas  CO2-Concentration TempGlobal_bins\n",
       "0    -130.1  5727.78236  180.5557  63.88894         1880.29881             Low\n",
       "1    -130.5  5727.78236  180.5557  63.88894         1942.99709             Low\n",
       "2    -125.9  5727.78236  180.5557  63.88894         1996.90205             Low\n",
       "3    -117.9  5727.78236  180.5557  63.88894         2186.94199             Low\n",
       "4    -128.2  5727.78236  180.5557  63.88894         2202.66794             Low"
      ]
     },
     "execution_count": 8,
     "metadata": {},
     "output_type": "execute_result"
    }
   ],
   "source": [
    "df_cluster_disct.head()"
   ]
  },
  {
   "cell_type": "code",
   "execution_count": 9,
   "metadata": {},
   "outputs": [],
   "source": [
    "df=df_cluster_disct.copy()"
   ]
  },
  {
   "cell_type": "code",
   "execution_count": 10,
   "metadata": {},
   "outputs": [
    {
     "data": {
      "text/html": [
       "<div>\n",
       "<style scoped>\n",
       "    .dataframe tbody tr th:only-of-type {\n",
       "        vertical-align: middle;\n",
       "    }\n",
       "\n",
       "    .dataframe tbody tr th {\n",
       "        vertical-align: top;\n",
       "    }\n",
       "\n",
       "    .dataframe thead th {\n",
       "        text-align: right;\n",
       "    }\n",
       "</style>\n",
       "<table border=\"1\" class=\"dataframe\">\n",
       "  <thead>\n",
       "    <tr style=\"text-align: right;\">\n",
       "      <th></th>\n",
       "      <th>SeaLevel</th>\n",
       "      <th>Coal</th>\n",
       "      <th>Oil</th>\n",
       "      <th>Gas</th>\n",
       "      <th>CO2-Concentration</th>\n",
       "      <th>TempGlobal_bins</th>\n",
       "    </tr>\n",
       "  </thead>\n",
       "  <tbody>\n",
       "    <tr>\n",
       "      <th>0</th>\n",
       "      <td>-130.1</td>\n",
       "      <td>5727.78236</td>\n",
       "      <td>180.5557</td>\n",
       "      <td>63.88894</td>\n",
       "      <td>1880.29881</td>\n",
       "      <td>Low</td>\n",
       "    </tr>\n",
       "    <tr>\n",
       "      <th>1</th>\n",
       "      <td>-130.5</td>\n",
       "      <td>5727.78236</td>\n",
       "      <td>180.5557</td>\n",
       "      <td>63.88894</td>\n",
       "      <td>1942.99709</td>\n",
       "      <td>Low</td>\n",
       "    </tr>\n",
       "    <tr>\n",
       "      <th>2</th>\n",
       "      <td>-125.9</td>\n",
       "      <td>5727.78236</td>\n",
       "      <td>180.5557</td>\n",
       "      <td>63.88894</td>\n",
       "      <td>1996.90205</td>\n",
       "      <td>Low</td>\n",
       "    </tr>\n",
       "    <tr>\n",
       "      <th>3</th>\n",
       "      <td>-117.9</td>\n",
       "      <td>5727.78236</td>\n",
       "      <td>180.5557</td>\n",
       "      <td>63.88894</td>\n",
       "      <td>2186.94199</td>\n",
       "      <td>Low</td>\n",
       "    </tr>\n",
       "    <tr>\n",
       "      <th>4</th>\n",
       "      <td>-128.2</td>\n",
       "      <td>5727.78236</td>\n",
       "      <td>180.5557</td>\n",
       "      <td>63.88894</td>\n",
       "      <td>2202.66794</td>\n",
       "      <td>Low</td>\n",
       "    </tr>\n",
       "    <tr>\n",
       "      <th>5</th>\n",
       "      <td>-133.7</td>\n",
       "      <td>5727.78236</td>\n",
       "      <td>180.5557</td>\n",
       "      <td>63.88894</td>\n",
       "      <td>2358.98058</td>\n",
       "      <td>Low</td>\n",
       "    </tr>\n",
       "    <tr>\n",
       "      <th>6</th>\n",
       "      <td>-126.9</td>\n",
       "      <td>5727.78236</td>\n",
       "      <td>180.5557</td>\n",
       "      <td>63.88894</td>\n",
       "      <td>2470.98898</td>\n",
       "      <td>Low</td>\n",
       "    </tr>\n",
       "    <tr>\n",
       "      <th>7</th>\n",
       "      <td>-128.3</td>\n",
       "      <td>5727.78236</td>\n",
       "      <td>180.5557</td>\n",
       "      <td>63.88894</td>\n",
       "      <td>2795.31422</td>\n",
       "      <td>Low</td>\n",
       "    </tr>\n",
       "    <tr>\n",
       "      <th>8</th>\n",
       "      <td>-130.8</td>\n",
       "      <td>5727.78236</td>\n",
       "      <td>180.5557</td>\n",
       "      <td>63.88894</td>\n",
       "      <td>2685.51149</td>\n",
       "      <td>Low</td>\n",
       "    </tr>\n",
       "    <tr>\n",
       "      <th>9</th>\n",
       "      <td>-126.3</td>\n",
       "      <td>5727.78236</td>\n",
       "      <td>180.5557</td>\n",
       "      <td>63.88894</td>\n",
       "      <td>2789.82023</td>\n",
       "      <td>Low</td>\n",
       "    </tr>\n",
       "  </tbody>\n",
       "</table>\n",
       "</div>"
      ],
      "text/plain": [
       "   SeaLevel        Coal       Oil       Gas  CO2-Concentration TempGlobal_bins\n",
       "0    -130.1  5727.78236  180.5557  63.88894         1880.29881             Low\n",
       "1    -130.5  5727.78236  180.5557  63.88894         1942.99709             Low\n",
       "2    -125.9  5727.78236  180.5557  63.88894         1996.90205             Low\n",
       "3    -117.9  5727.78236  180.5557  63.88894         2186.94199             Low\n",
       "4    -128.2  5727.78236  180.5557  63.88894         2202.66794             Low\n",
       "5    -133.7  5727.78236  180.5557  63.88894         2358.98058             Low\n",
       "6    -126.9  5727.78236  180.5557  63.88894         2470.98898             Low\n",
       "7    -128.3  5727.78236  180.5557  63.88894         2795.31422             Low\n",
       "8    -130.8  5727.78236  180.5557  63.88894         2685.51149             Low\n",
       "9    -126.3  5727.78236  180.5557  63.88894         2789.82023             Low"
      ]
     },
     "execution_count": 10,
     "metadata": {},
     "output_type": "execute_result"
    }
   ],
   "source": [
    "df.head(10)"
   ]
  },
  {
   "cell_type": "code",
   "execution_count": 11,
   "metadata": {},
   "outputs": [
    {
     "data": {
      "text/plain": [
       "RangeIndex(start=0, stop=116, step=1)"
      ]
     },
     "execution_count": 11,
     "metadata": {},
     "output_type": "execute_result"
    }
   ],
   "source": [
    "df.index # indices of rows."
   ]
  },
  {
   "cell_type": "code",
   "execution_count": 12,
   "metadata": {},
   "outputs": [
    {
     "data": {
      "text/plain": [
       "SeaLevel             False\n",
       "Coal                 False\n",
       "Oil                  False\n",
       "Gas                  False\n",
       "CO2-Concentration    False\n",
       "TempGlobal_bins      False\n",
       "dtype: bool"
      ]
     },
     "execution_count": 12,
     "metadata": {},
     "output_type": "execute_result"
    }
   ],
   "source": [
    "df.isnull().any()"
   ]
  },
  {
   "cell_type": "code",
   "execution_count": 13,
   "metadata": {},
   "outputs": [
    {
     "name": "stdout",
     "output_type": "stream",
     "text": [
      "Number of values in column  SeaLevel  :  116\n",
      "Number of values in column  Coal  :  116\n",
      "Number of values in column  Oil  :  116\n",
      "Number of values in column  Gas  :  116\n",
      "Number of values in column  CO2-Concentration  :  116\n",
      "Number of values in column  TempGlobal_bins  :  116\n"
     ]
    }
   ],
   "source": [
    "for col in df.columns:\n",
    "    print(\"Number of values in column \" ,col,\" : \",df[col].count())"
   ]
  },
  {
   "cell_type": "code",
   "execution_count": 14,
   "metadata": {},
   "outputs": [],
   "source": [
    "#VISUALIZING THE DISTRIBUTIION AND RANGE OF FEATURES."
   ]
  },
  {
   "cell_type": "code",
   "execution_count": 15,
   "metadata": {},
   "outputs": [],
   "source": [
    "def plot(feature):\n",
    "    fig,axes=plt.subplots(1,2)\n",
    "    sns.boxplot(data=df,x=feature,ax=axes[0])\n",
    "    sns.distplot(a=df[feature],ax=axes[1],color='#ff4125')\n",
    "    fig.set_size_inches(15,5)"
   ]
  },
  {
   "cell_type": "code",
   "execution_count": 16,
   "metadata": {},
   "outputs": [
    {
     "data": {
      "image/png": "[encoded data removed]",
      "text/plain": [
       "<Figure size 1080x360 with 2 Axes>"
      ]
     },
     "metadata": {
      "needs_background": "light"
     },
     "output_type": "display_data"
    }
   ],
   "source": [
    "plot('SeaLevel')"
   ]
  },
  {
   "cell_type": "code",
   "execution_count": 17,
   "metadata": {},
   "outputs": [
    {
     "data": {
      "image/png": "[encoded data removed]",
      "text/plain": [
       "<Figure size 1080x360 with 2 Axes>"
      ]
     },
     "metadata": {
      "needs_background": "light"
     },
     "output_type": "display_data"
    }
   ],
   "source": [
    "plot('Coal')"
   ]
  },
  {
   "cell_type": "code",
   "execution_count": 18,
   "metadata": {},
   "outputs": [
    {
     "data": {
      "image/png": "[encoded data removed]",
      "text/plain": [
       "<Figure size 1080x360 with 2 Axes>"
      ]
     },
     "metadata": {
      "needs_background": "light"
     },
     "output_type": "display_data"
    }
   ],
   "source": [
    "plot('Gas')"
   ]
  },
  {
   "cell_type": "code",
   "execution_count": 19,
   "metadata": {},
   "outputs": [
    {
     "data": {
      "image/png": "[encoded data removed]",
      "text/plain": [
       "<Figure size 1080x360 with 2 Axes>"
      ]
     },
     "metadata": {
      "needs_background": "light"
     },
     "output_type": "display_data"
    }
   ],
   "source": [
    "plot('Oil')"
   ]
  },
  {
   "cell_type": "code",
   "execution_count": 20,
   "metadata": {},
   "outputs": [
    {
     "data": {
      "image/png": "[encoded data removed]",
      "text/plain": [
       "<Figure size 1080x360 with 2 Axes>"
      ]
     },
     "metadata": {
      "needs_background": "light"
     },
     "output_type": "display_data"
    }
   ],
   "source": [
    "plot('CO2-Concentration')"
   ]
  },
  {
   "cell_type": "code",
   "execution_count": 22,
   "metadata": {},
   "outputs": [
    {
     "data": {
      "text/plain": [
       "<seaborn.axisgrid.FacetGrid at 0x1dc2c928cf8>"
      ]
     },
     "execution_count": 22,
     "metadata": {},
     "output_type": "execute_result"
    },
    {
     "data": {
      "image/png": "[encoded data removed]",
      "text/plain": [
       "<Figure size 360x360 with 1 Axes>"
      ]
     },
     "metadata": {
      "needs_background": "light"
     },
     "output_type": "display_data"
    }
   ],
   "source": [
    "sns.factorplot(data=df,x='TempGlobal_bins',kind='count')"
   ]
  },
  {
   "cell_type": "code",
   "execution_count": 23,
   "metadata": {},
   "outputs": [],
   "source": [
    "# Preparing the Data"
   ]
  },
  {
   "cell_type": "code",
   "execution_count": 24,
   "metadata": {},
   "outputs": [],
   "source": [
    "# LABEL ENCODING THE TARGET"
   ]
  },
  {
   "cell_type": "code",
   "execution_count": 26,
   "metadata": {},
   "outputs": [],
   "source": [
    "#Since the algorithms accept only numeric data we will encode the 'TempGlobal_bins' column using the LabelEncoder() from scikit learn."
   ]
  },
  {
   "cell_type": "code",
   "execution_count": 27,
   "metadata": {},
   "outputs": [],
   "source": [
    "le=LabelEncoder()\n",
    "df['TempGlobal_bins']=le.fit_transform(df['TempGlobal_bins'])"
   ]
  },
  {
   "cell_type": "code",
   "execution_count": 28,
   "metadata": {},
   "outputs": [],
   "source": [
    "#NORMALIZING FEATURES\n",
    "#Normalizing the features give better performance.\n",
    "#Hence I have normalized all the features by scaling them to 0 mean and a unit standard deviation."
   ]
  },
  {
   "cell_type": "code",
   "execution_count": 29,
   "metadata": {},
   "outputs": [],
   "source": [
    "scaler=StandardScaler()\n",
    "scaled_df=scaler.fit_transform(df.drop('TempGlobal_bins',axis=1))\n",
    "X=scaled_df\n",
    "Y=df['TempGlobal_bins'].as_matrix()"
   ]
  },
  {
   "cell_type": "code",
   "execution_count": 30,
   "metadata": {},
   "outputs": [
    {
     "data": {
      "text/html": [
       "<div>\n",
       "<style scoped>\n",
       "    .dataframe tbody tr th:only-of-type {\n",
       "        vertical-align: middle;\n",
       "    }\n",
       "\n",
       "    .dataframe tbody tr th {\n",
       "        vertical-align: top;\n",
       "    }\n",
       "\n",
       "    .dataframe thead th {\n",
       "        text-align: right;\n",
       "    }\n",
       "</style>\n",
       "<table border=\"1\" class=\"dataframe\">\n",
       "  <thead>\n",
       "    <tr style=\"text-align: right;\">\n",
       "      <th></th>\n",
       "      <th>SeaLevel</th>\n",
       "      <th>Coal</th>\n",
       "      <th>Oil</th>\n",
       "      <th>Gas</th>\n",
       "      <th>CO2-Concentration</th>\n",
       "      <th>TempGlobal_bins</th>\n",
       "    </tr>\n",
       "  </thead>\n",
       "  <tbody>\n",
       "    <tr>\n",
       "      <th>0</th>\n",
       "      <td>-130.1</td>\n",
       "      <td>5727.78236</td>\n",
       "      <td>180.5557</td>\n",
       "      <td>63.88894</td>\n",
       "      <td>1880.29881</td>\n",
       "      <td>1</td>\n",
       "    </tr>\n",
       "    <tr>\n",
       "      <th>1</th>\n",
       "      <td>-130.5</td>\n",
       "      <td>5727.78236</td>\n",
       "      <td>180.5557</td>\n",
       "      <td>63.88894</td>\n",
       "      <td>1942.99709</td>\n",
       "      <td>1</td>\n",
       "    </tr>\n",
       "    <tr>\n",
       "      <th>2</th>\n",
       "      <td>-125.9</td>\n",
       "      <td>5727.78236</td>\n",
       "      <td>180.5557</td>\n",
       "      <td>63.88894</td>\n",
       "      <td>1996.90205</td>\n",
       "      <td>1</td>\n",
       "    </tr>\n",
       "    <tr>\n",
       "      <th>3</th>\n",
       "      <td>-117.9</td>\n",
       "      <td>5727.78236</td>\n",
       "      <td>180.5557</td>\n",
       "      <td>63.88894</td>\n",
       "      <td>2186.94199</td>\n",
       "      <td>1</td>\n",
       "    </tr>\n",
       "    <tr>\n",
       "      <th>4</th>\n",
       "      <td>-128.2</td>\n",
       "      <td>5727.78236</td>\n",
       "      <td>180.5557</td>\n",
       "      <td>63.88894</td>\n",
       "      <td>2202.66794</td>\n",
       "      <td>1</td>\n",
       "    </tr>\n",
       "    <tr>\n",
       "      <th>5</th>\n",
       "      <td>-133.7</td>\n",
       "      <td>5727.78236</td>\n",
       "      <td>180.5557</td>\n",
       "      <td>63.88894</td>\n",
       "      <td>2358.98058</td>\n",
       "      <td>1</td>\n",
       "    </tr>\n",
       "    <tr>\n",
       "      <th>6</th>\n",
       "      <td>-126.9</td>\n",
       "      <td>5727.78236</td>\n",
       "      <td>180.5557</td>\n",
       "      <td>63.88894</td>\n",
       "      <td>2470.98898</td>\n",
       "      <td>1</td>\n",
       "    </tr>\n",
       "    <tr>\n",
       "      <th>7</th>\n",
       "      <td>-128.3</td>\n",
       "      <td>5727.78236</td>\n",
       "      <td>180.5557</td>\n",
       "      <td>63.88894</td>\n",
       "      <td>2795.31422</td>\n",
       "      <td>1</td>\n",
       "    </tr>\n",
       "    <tr>\n",
       "      <th>8</th>\n",
       "      <td>-130.8</td>\n",
       "      <td>5727.78236</td>\n",
       "      <td>180.5557</td>\n",
       "      <td>63.88894</td>\n",
       "      <td>2685.51149</td>\n",
       "      <td>1</td>\n",
       "    </tr>\n",
       "    <tr>\n",
       "      <th>9</th>\n",
       "      <td>-126.3</td>\n",
       "      <td>5727.78236</td>\n",
       "      <td>180.5557</td>\n",
       "      <td>63.88894</td>\n",
       "      <td>2789.82023</td>\n",
       "      <td>1</td>\n",
       "    </tr>\n",
       "  </tbody>\n",
       "</table>\n",
       "</div>"
      ],
      "text/plain": [
       "   SeaLevel        Coal       Oil       Gas  CO2-Concentration  \\\n",
       "0    -130.1  5727.78236  180.5557  63.88894         1880.29881   \n",
       "1    -130.5  5727.78236  180.5557  63.88894         1942.99709   \n",
       "2    -125.9  5727.78236  180.5557  63.88894         1996.90205   \n",
       "3    -117.9  5727.78236  180.5557  63.88894         2186.94199   \n",
       "4    -128.2  5727.78236  180.5557  63.88894         2202.66794   \n",
       "5    -133.7  5727.78236  180.5557  63.88894         2358.98058   \n",
       "6    -126.9  5727.78236  180.5557  63.88894         2470.98898   \n",
       "7    -128.3  5727.78236  180.5557  63.88894         2795.31422   \n",
       "8    -130.8  5727.78236  180.5557  63.88894         2685.51149   \n",
       "9    -126.3  5727.78236  180.5557  63.88894         2789.82023   \n",
       "\n",
       "   TempGlobal_bins  \n",
       "0                1  \n",
       "1                1  \n",
       "2                1  \n",
       "3                1  \n",
       "4                1  \n",
       "5                1  \n",
       "6                1  \n",
       "7                1  \n",
       "8                1  \n",
       "9                1  "
      ]
     },
     "execution_count": 30,
     "metadata": {},
     "output_type": "execute_result"
    }
   ],
   "source": [
    "df.head(10)"
   ]
  },
  {
   "cell_type": "code",
   "execution_count": 31,
   "metadata": {},
   "outputs": [],
   "source": [
    "# SPLITTING INTO TRAINING & VALIDATION SETS"
   ]
  },
  {
   "cell_type": "code",
   "execution_count": 32,
   "metadata": {},
   "outputs": [],
   "source": [
    "x_train,x_test,y_train,y_test=train_test_split(X,Y,test_size=0.20,random_state=42)"
   ]
  },
  {
   "cell_type": "code",
   "execution_count": 33,
   "metadata": {},
   "outputs": [],
   "source": [
    "# MODELLING"
   ]
  },
  {
   "cell_type": "code",
   "execution_count": 34,
   "metadata": {},
   "outputs": [],
   "source": [
    "# LOGISTIC REGRESSION"
   ]
  },
  {
   "cell_type": "code",
   "execution_count": 35,
   "metadata": {},
   "outputs": [
    {
     "name": "stdout",
     "output_type": "stream",
     "text": [
      "0.8333333333333334\n"
     ]
    }
   ],
   "source": [
    "clf_lr=LogisticRegression(C=10)\n",
    "clf_lr.fit(x_train,y_train)\n",
    "pred=clf_lr.predict(x_test)\n",
    "print(accuracy_score(pred,y_test))"
   ]
  },
  {
   "cell_type": "code",
   "execution_count": 36,
   "metadata": {},
   "outputs": [],
   "source": [
    "# kNN"
   ]
  },
  {
   "cell_type": "code",
   "execution_count": 37,
   "metadata": {},
   "outputs": [
    {
     "name": "stdout",
     "output_type": "stream",
     "text": [
      "0.875\n"
     ]
    }
   ],
   "source": [
    "clf_knn=KNeighborsClassifier()\n",
    "clf_knn.fit(x_train,y_train)\n",
    "pred=clf_knn.predict(x_test)\n",
    "print(accuracy_score(pred,y_test))"
   ]
  },
  {
   "cell_type": "code",
   "execution_count": 38,
   "metadata": {},
   "outputs": [],
   "source": [
    "# Linear Support Vector Machine(SVM)"
   ]
  },
  {
   "cell_type": "code",
   "execution_count": 39,
   "metadata": {},
   "outputs": [
    {
     "name": "stdout",
     "output_type": "stream",
     "text": [
      "0.8333333333333334\n"
     ]
    }
   ],
   "source": [
    "clf_svm_lin=LinearSVC()\n",
    "clf_svm_lin.fit(x_train,y_train)\n",
    "pred=clf_svm_lin.predict(x_test)\n",
    "print(accuracy_score(pred,y_test))"
   ]
  },
  {
   "cell_type": "code",
   "execution_count": 40,
   "metadata": {},
   "outputs": [],
   "source": [
    "#SVM (with 'rbf' kernel"
   ]
  },
  {
   "cell_type": "code",
   "execution_count": 41,
   "metadata": {},
   "outputs": [
    {
     "name": "stdout",
     "output_type": "stream",
     "text": [
      "0.7916666666666666\n"
     ]
    }
   ],
   "source": [
    "clf_svm=SVC()\n",
    "clf_svm.fit(x_train,y_train)\n",
    "pred=clf_svm.predict(x_test)\n",
    "print(accuracy_score(pred,y_test))"
   ]
  },
  {
   "cell_type": "code",
   "execution_count": 42,
   "metadata": {},
   "outputs": [],
   "source": [
    "# COMPARING DIFFERENT ALGORITHMS"
   ]
  },
  {
   "cell_type": "code",
   "execution_count": 43,
   "metadata": {},
   "outputs": [],
   "source": [
    "models=[LogisticRegression(),LinearSVC(),SVC(),KNeighborsClassifier()]\n",
    "model_names=['LogisticRegression','LinearSVM','rbfSVM','KNearestNeighbors']\n",
    "\n",
    "acc=[]\n",
    "d={}\n",
    "\n",
    "for model in range(len(models)):\n",
    "    clf=models[model]\n",
    "    clf.fit(x_train,y_train)\n",
    "    pred=clf.predict(x_test)\n",
    "    acc.append(accuracy_score(pred,y_test))\n",
    "     \n",
    "d={'Modelling Algo':model_names,'Accuracy':acc}"
   ]
  },
  {
   "cell_type": "code",
   "execution_count": 44,
   "metadata": {},
   "outputs": [
    {
     "data": {
      "text/html": [
       "<div>\n",
       "<style scoped>\n",
       "    .dataframe tbody tr th:only-of-type {\n",
       "        vertical-align: middle;\n",
       "    }\n",
       "\n",
       "    .dataframe tbody tr th {\n",
       "        vertical-align: top;\n",
       "    }\n",
       "\n",
       "    .dataframe thead th {\n",
       "        text-align: right;\n",
       "    }\n",
       "</style>\n",
       "<table border=\"1\" class=\"dataframe\">\n",
       "  <thead>\n",
       "    <tr style=\"text-align: right;\">\n",
       "      <th></th>\n",
       "      <th>Modelling Algo</th>\n",
       "      <th>Accuracy</th>\n",
       "    </tr>\n",
       "  </thead>\n",
       "  <tbody>\n",
       "    <tr>\n",
       "      <th>0</th>\n",
       "      <td>LogisticRegression</td>\n",
       "      <td>0.750000</td>\n",
       "    </tr>\n",
       "    <tr>\n",
       "      <th>1</th>\n",
       "      <td>LinearSVM</td>\n",
       "      <td>0.833333</td>\n",
       "    </tr>\n",
       "    <tr>\n",
       "      <th>2</th>\n",
       "      <td>rbfSVM</td>\n",
       "      <td>0.791667</td>\n",
       "    </tr>\n",
       "    <tr>\n",
       "      <th>3</th>\n",
       "      <td>KNearestNeighbors</td>\n",
       "      <td>0.875000</td>\n",
       "    </tr>\n",
       "  </tbody>\n",
       "</table>\n",
       "</div>"
      ],
      "text/plain": [
       "       Modelling Algo  Accuracy\n",
       "0  LogisticRegression  0.750000\n",
       "1           LinearSVM  0.833333\n",
       "2              rbfSVM  0.791667\n",
       "3   KNearestNeighbors  0.875000"
      ]
     },
     "execution_count": 44,
     "metadata": {},
     "output_type": "execute_result"
    }
   ],
   "source": [
    "acc_frame=pd.DataFrame(d)\n",
    "acc_frame"
   ]
  },
  {
   "cell_type": "code",
   "execution_count": 45,
   "metadata": {},
   "outputs": [
    {
     "data": {
      "text/plain": [
       "<seaborn.axisgrid.FacetGrid at 0x1dc2c90c240>"
      ]
     },
     "execution_count": 45,
     "metadata": {},
     "output_type": "execute_result"
    },
    {
     "data": {
      "image/png": "[encoded data removed]",
      "text/plain": [
       "<Figure size 540x360 with 1 Axes>"
      ]
     },
     "metadata": {
      "needs_background": "light"
     },
     "output_type": "display_data"
    }
   ],
   "source": [
    "sns.factorplot(data=acc_frame,y='Modelling Algo',x='Accuracy',kind='bar',size=5,aspect=1.5)"
   ]
  },
  {
   "cell_type": "code",
   "execution_count": null,
   "metadata": {},
   "outputs": [],
   "source": []
  }
 ],
 "metadata": {
  "kernelspec": {
   "display_name": "Python 3",
   "language": "python",
   "name": "python3"
  },
  "language_info": {
   "codemirror_mode": {
    "name": "ipython",
    "version": 3
   },
   "file_extension": ".py",
   "mimetype": "text/x-python",
   "name": "python",
   "nbconvert_exporter": "python",
   "pygments_lexer": "ipython3",
   "version": "3.7.0"
  }
 },
 "nbformat": 4,
 "nbformat_minor": 2
}
