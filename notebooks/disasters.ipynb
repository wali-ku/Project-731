{
 "cells": [
  {
   "cell_type": "code",
   "execution_count": 4,
   "metadata": {
    "collapsed": false
   },
   "outputs": [
    {
     "name": "stderr",
     "output_type": "stream",
     "text": [
      "/opt/anaconda/lib/python2.7/site-packages/matplotlib/font_manager.py:281: UserWarning: Matplotlib is building the font cache using fc-list. This may take a moment.\n",
      "  'Matplotlib is building the font cache using fc-list. '\n"
     ]
    },
    {
     "name": "stdout",
     "output_type": "stream",
     "text": [
      "CPU times: user 841 ms, sys: 199 ms, total: 1.04 s\n",
      "Wall time: 34.3 s\n"
     ]
    }
   ],
   "source": [
    "%%time\n",
    "\n",
    "import numpy as np\n",
    "import pandas as pd\n",
    "import matplotlib.pyplot as plt\n",
    "from  datetime import datetime as dt\n",
    "plt.style.use('fivethirtyeight')\n",
    "%matplotlib inline"
   ]
  },
  {
   "cell_type": "code",
   "execution_count": 5,
   "metadata": {
    "collapsed": false
   },
   "outputs": [
    {
     "name": "stdout",
     "output_type": "stream",
     "text": [
      "\n",
      "####### Temp Data Head\n",
      "      TempGlobal  TempLand\n",
      "year                      \n",
      "1900   15.143917  8.501583\n",
      "1901   15.073333  8.541917\n",
      "1902   14.958333  8.304417\n",
      "1903   14.836583  8.220167\n",
      "1904   14.810417  8.090917\n",
      "\n",
      "####### Temp Data Tail\n",
      "      TempGlobal  TempLand\n",
      "year                      \n",
      "2011   15.769500  9.516000\n",
      "2012   15.802333  9.507333\n",
      "2013   15.854417  9.606500\n",
      "2014   15.913000  9.570667\n",
      "2015   16.058583  9.831000\n",
      "\n",
      "####### Temp Data Shape\n",
      "(116, 2)\n"
     ]
    }
   ],
   "source": [
    "dfs = {}\n",
    "dataName = 'temp'\n",
    "dfs [dataName] = pd.read_csv ('../data/firstPass/GlobalTemperatures.csv', parse_dates = ['dt'])\n",
    "dfs [dataName] = dfs [dataName].rename (index = str, columns = {'LandAndOceanAverageTemperature': 'TempGlobal', 'LandAverageTemperature': 'TempLand'})\n",
    "dfs [dataName]['year'] = pd.DatetimeIndex (dfs [dataName]['dt']).year\n",
    "dfs [dataName] = dfs [dataName].drop (['dt'], axis = 1)\n",
    "dfs [dataName] = dfs [dataName].groupby ('year')[['TempGlobal', 'TempLand']].mean ()\n",
    "dfs [dataName] = dfs [dataName] [dfs [dataName].index > 1899]\n",
    "dfs [dataName] = dfs [dataName] [dfs [dataName].index < 2016]\n",
    "dfs [dataName].index = dfs [dataName].index.map (unicode)\n",
    "\n",
    "\n",
    "print\n",
    "print '####### %s Data Head' % (dataName.capitalize ())\n",
    "print dfs [dataName].head ()\n",
    "print\n",
    "print '####### %s Data Tail' % (dataName.capitalize ())\n",
    "print dfs [dataName].tail ()\n",
    "print\n",
    "print '####### %s Data Shape' % (dataName.capitalize ())\n",
    "print dfs [dataName].shape"
   ]
  },
  {
   "cell_type": "code",
   "execution_count": 6,
   "metadata": {
    "collapsed": false
   },
   "outputs": [
    {
     "name": "stdout",
     "output_type": "stream",
     "text": [
      "\n",
      "####### Disastor Data Head\n",
      "                     Entity  Reports\n",
      "dt                                  \n",
      "1900  All natural disasters        6\n",
      "1901  All natural disasters        3\n",
      "1902  All natural disasters        9\n",
      "1903  All natural disasters        8\n",
      "1904  All natural disasters        2\n",
      "\n",
      "####### Disastor Data Tail\n",
      "        Entity  Reports\n",
      "dt                     \n",
      "2011  Wildfire        8\n",
      "2012  Wildfire        6\n",
      "2013  Wildfire       10\n",
      "2014  Wildfire        4\n",
      "2015  Wildfire       12\n",
      "\n",
      "####### Disastor Data Shape\n",
      "(874, 2)\n"
     ]
    }
   ],
   "source": [
    "dataName = 'disastor'\n",
    "dfs [dataName] = pd.read_csv ('../data/catastrophes/disastors.csv', parse_dates = ['Year'])\n",
    "dfs [dataName] = dfs [dataName].rename (index = str, columns = {'Year': 'dt', 'Number of disasters (EMDAT (2017)) (reported disasters)': 'Reports'})\n",
    "dfs [dataName].index = pd.DatetimeIndex (dfs [dataName]['dt']).year\n",
    "dfs [dataName] = dfs [dataName].drop (['dt', 'Code'], axis = 1)\n",
    "# dfs [dataName] = dfs [dataName].groupby ('year')[['TempGlobal', 'TempLand']].mean ()\n",
    "dfs [dataName] = dfs [dataName] [dfs [dataName].index > 1899]\n",
    "dfs [dataName] = dfs [dataName] [dfs [dataName].index < 2016]\n",
    "dfs [dataName].index = dfs [dataName].index.map (unicode)\n",
    "\n",
    "\n",
    "print\n",
    "print '####### %s Data Head' % (dataName.capitalize ())\n",
    "print dfs [dataName].head ()\n",
    "print\n",
    "print '####### %s Data Tail' % (dataName.capitalize ())\n",
    "print dfs [dataName].tail ()\n",
    "print\n",
    "print '####### %s Data Shape' % (dataName.capitalize ())\n",
    "print dfs [dataName].shape"
   ]
  },
  {
   "cell_type": "code",
   "execution_count": 7,
   "metadata": {
    "collapsed": false
   },
   "outputs": [
    {
     "data": {
      "text/plain": [
       "array(['All natural disasters', 'Drought', 'Earthquake', 'Epidemic',\n",
       "       'Extreme temperature', 'Extreme weather', 'Flood', 'Impact',\n",
       "       'Landslide', 'Mass movement (dry)', 'Volcanic activity', 'Wildfire'], dtype=object)"
      ]
     },
     "execution_count": 7,
     "metadata": {},
     "output_type": "execute_result"
    }
   ],
   "source": [
    "dfs ['disastor']['Entity'].unique ()"
   ]
  },
  {
   "cell_type": "code",
   "execution_count": 8,
   "metadata": {
    "collapsed": false
   },
   "outputs": [],
   "source": [
    "dataName = 'disastor'\n",
    "dfPerEntity = {}\n",
    "entities = dfs [dataName]['Entity'].unique ()\n",
    "\n",
    "for entity in entities:\n",
    "    dfPerEntity [entity] = dfs [dataName][dfs [dataName]['Entity'] == entity]"
   ]
  },
  {
   "cell_type": "code",
   "execution_count": 9,
   "metadata": {
    "collapsed": false
   },
   "outputs": [
    {
     "name": "stdout",
     "output_type": "stream",
     "text": [
      "\n",
      "####### Tempalld Data Head\n",
      "      AllDisasters  TempLand\n",
      "dt                          \n",
      "1900             6  8.501583\n",
      "1901             3  8.541917\n",
      "1902             9  8.304417\n",
      "1903             8  8.220167\n",
      "1904             2  8.090917\n",
      "\n",
      "####### Tempalld Data Tail\n",
      "      AllDisasters  TempLand\n",
      "dt                          \n",
      "2011           361  9.516000\n",
      "2012           371  9.507333\n",
      "2013           355  9.606500\n",
      "2014           342  9.570667\n",
      "2015           396  9.831000\n",
      "\n",
      "####### Tempalld Data Shape\n",
      "(116, 2)\n"
     ]
    }
   ],
   "source": [
    "# We are interested in creating following datasets\n",
    "# TempLand + All Natural Disasters    | tempAllD\n",
    "# TempLand + Drought                  | tempDrgt\n",
    "# TempLand + Earthquake               | tempQuke\n",
    "# TempLand + Extreme Temperature      | tempExtmp\n",
    "# TempLand + Extreme Weather          | tempExWth\n",
    "# TempGlobal + Sea Level + Flood      | tempSeFld\n",
    "# TempLand + Earthquake + Landslide   | tempEtSld\n",
    "# Volcanic Activity + Wildfire + TempLand | VoWfTemp\n",
    "# Volcanic Activity + Wildfire + CO2      | VoWfCo2\n",
    "\n",
    "datasets = {}\n",
    "dataName = 'tempAllD'\n",
    "datasets [dataName] = dfPerEntity ['All natural disasters'].join (dfs ['temp'], how = 'inner')\n",
    "datasets [dataName] = datasets [dataName].rename (index = str, columns = {'Reports': 'AllDisasters'})\n",
    "datasets [dataName] = datasets [dataName].drop (['Entity', 'TempGlobal'], axis = 1)\n",
    "\n",
    "print\n",
    "print '####### %s Data Head' % (dataName.capitalize ())\n",
    "print datasets [dataName].head ()\n",
    "print\n",
    "print '####### %s Data Tail' % (dataName.capitalize ())\n",
    "print datasets [dataName].tail ()\n",
    "print\n",
    "print '####### %s Data Shape' % (dataName.capitalize ())\n",
    "print datasets [dataName].shape"
   ]
  },
  {
   "cell_type": "code",
   "execution_count": 39,
   "metadata": {
    "collapsed": false
   },
   "outputs": [
    {
     "name": "stdout",
     "output_type": "stream",
     "text": [
      "\n",
      "####### Tempdrgt Data Head\n",
      "      Droughts  TempLand  deltaTemp  ewmaTemp\n",
      "1900         2  8.501583        NaN       NaN\n",
      "1903         1  8.220167  -0.084250 -0.100546\n",
      "1906         1  8.379083   0.153917  0.007255\n",
      "1910         9  8.223000   0.044750 -0.006331\n",
      "1919         1  8.382250   0.251417  0.022541\n",
      "\n",
      "####### Tempdrgt Data Tail\n",
      "      Droughts  TempLand  deltaTemp  ewmaTemp\n",
      "2011        17  9.516000  -0.187083  0.002240\n",
      "2012        21  9.507333  -0.008667  0.000422\n",
      "2013         9  9.606500   0.099167  0.016880\n",
      "2014        18  9.570667  -0.035833  0.008094\n",
      "2015        28  9.831000   0.260333  0.050134\n",
      "\n",
      "####### Tempdrgt Data Shape\n",
      "(70, 4)\n"
     ]
    }
   ],
   "source": [
    "dataName = 'tempDrgt'\n",
    "datasets [dataName] = dfPerEntity ['Drought'].join (dfs ['temp'], how = 'inner')\n",
    "datasets [dataName] = datasets [dataName].rename (index = str, columns = {'Reports': 'Droughts'})\n",
    "datasets [dataName] = datasets [dataName].drop (['Entity', 'TempGlobal'], axis = 1)\n",
    "\n",
    "print\n",
    "print '####### %s Data Head' % (dataName.capitalize ())\n",
    "print datasets [dataName].head ()\n",
    "print\n",
    "print '####### %s Data Tail' % (dataName.capitalize ())\n",
    "print datasets [dataName].tail ()\n",
    "print\n",
    "print '####### %s Data Shape' % (dataName.capitalize ())\n",
    "print datasets [dataName].shape"
   ]
  },
  {
   "cell_type": "code",
   "execution_count": 42,
   "metadata": {
    "collapsed": false
   },
   "outputs": [
    {
     "data": {
      "text/plain": [
       "<matplotlib.axes._subplots.AxesSubplot at 0x113fbaed0>"
      ]
     },
     "execution_count": 42,
     "metadata": {},
     "output_type": "execute_result"
    },
    {
     "data": {
      "image/png": "[encoded data removed]",
      "text/plain": [
       "<Figure size 432x288 with 1 Axes>"
      ]
     },
     "metadata": {},
     "output_type": "display_data"
    }
   ],
   "source": [
    "datasets ['tempDrgt'].plot (y = 'Droughts')"
   ]
  },
  {
   "cell_type": "code",
   "execution_count": null,
   "metadata": {
    "collapsed": true
   },
   "outputs": [],
   "source": []
  },
  {
   "cell_type": "markdown",
   "metadata": {},
   "source": [
    "dfs ['temp']['TempLand'].plot ()"
   ]
  },
  {
   "cell_type": "code",
   "execution_count": 14,
   "metadata": {
    "collapsed": true
   },
   "outputs": [],
   "source": [
    "dfs ['temp']['deltaTemp'] = dfs ['temp']['TempLand'] - dfs ['temp']['TempLand'].shift (1)"
   ]
  },
  {
   "cell_type": "code",
   "execution_count": 35,
   "metadata": {
    "collapsed": false
   },
   "outputs": [
    {
     "data": {
      "text/plain": [
       "<matplotlib.axes._subplots.AxesSubplot at 0x113609e50>"
      ]
     },
     "execution_count": 35,
     "metadata": {},
     "output_type": "execute_result"
    },
    {
     "data": {
      "image/png": "[encoded data removed]",
      "text/plain": [
       "<Figure size 432x288 with 1 Axes>"
      ]
     },
     "metadata": {},
     "output_type": "display_data"
    }
   ],
   "source": [
    "dfs ['temp']['ewmaTemp'] = dfs ['temp']['TempLand'].ewm (com = 0).mean ()\n",
    "dfs ['temp']['ewmaTemp'].plot ()\n",
    "dfs ['temp']['ewmaTemp'] = dfs ['temp']['TempLand'].ewm (com = 5).mean ()\n",
    "dfs ['temp']['ewmaTemp'].plot ()"
   ]
  },
  {
   "cell_type": "code",
   "execution_count": null,
   "metadata": {
    "collapsed": true
   },
   "outputs": [],
   "source": []
  }
 ],
 "metadata": {
  "anaconda-cloud": {},
  "kernelspec": {
   "display_name": "Python [default]",
   "language": "python",
   "name": "python2"
  },
  "language_info": {
   "codemirror_mode": {
    "name": "ipython",
    "version": 2
   },
   "file_extension": ".py",
   "mimetype": "text/x-python",
   "name": "python",
   "nbconvert_exporter": "python",
   "pygments_lexer": "ipython2",
   "version": "2.7.12"
  }
 },
 "nbformat": 4,
 "nbformat_minor": 2
}
